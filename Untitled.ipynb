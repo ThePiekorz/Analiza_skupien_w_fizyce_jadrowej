{
 "cells": [
  {
   "cell_type": "code",
   "execution_count": 1,
   "id": "2c50c524",
   "metadata": {},
   "outputs": [
    {
     "name": "stdout",
     "output_type": "stream",
     "text": [
      "Rand Index: 0.7619047619047619\n"
     ]
    }
   ],
   "source": [
    "from sklearn.metrics import adjusted_rand_score\n",
    "\n",
    "# Załóżmy, że masz etykiety rzeczywiste i etykiety z wynikami klastrowania\n",
    "ground_truth_labels = [0, 0, 1, 1, 2, 2]\n",
    "clustered_labels = [0, 0, 1, 1, 2, 3]  # Przykładowe etykiety z wynikami klastrowania\n",
    "\n",
    "# Oblicz Rand Index\n",
    "rand_index = adjusted_rand_score(ground_truth_labels, clustered_labels)\n",
    "\n",
    "print(f\"Rand Index: {rand_index}\")"
   ]
  },
  {
   "cell_type": "code",
   "execution_count": null,
   "id": "1746dfe0",
   "metadata": {},
   "outputs": [],
   "source": []
  }
 ],
 "metadata": {
  "kernelspec": {
   "display_name": "Python 3 (ipykernel)",
   "language": "python",
   "name": "python3"
  },
  "language_info": {
   "codemirror_mode": {
    "name": "ipython",
    "version": 3
   },
   "file_extension": ".py",
   "mimetype": "text/x-python",
   "name": "python",
   "nbconvert_exporter": "python",
   "pygments_lexer": "ipython3",
   "version": "3.11.5"
  }
 },
 "nbformat": 4,
 "nbformat_minor": 5
}
