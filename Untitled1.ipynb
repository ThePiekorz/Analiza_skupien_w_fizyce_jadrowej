{
 "cells": [
  {
   "cell_type": "code",
   "execution_count": 3,
   "id": "72c45e59-bff7-4e96-bd1a-d766378b95f9",
   "metadata": {
    "tags": []
   },
   "outputs": [],
   "source": [
    "def plot_clusters(data, db_data, labels, core_sample_indices, n_clusters):\n",
    "    \n",
    "    '''\n",
    "    Parametry:\n",
    "    - data (numpy.ndarray): Dwuwymiarowa tablica zawierająca dane, gdzie każdy wiersz reprezentuje jedną próbkę, a każda kolumna to cecha.\n",
    "    - labels (numpy.ndarray): Jednowymiarowa tablica zawierająca przypisane etykiety dla każdej próbki w danych.\n",
    "    - core_sample_indices (numpy.ndarray): Jednowymiarowa tablica zawierająca indeksy próbek, które zostały uznane za rdzeniowe przez algorytm klastrujący (np. DBSCAN).\n",
    "    - n_clusters (int): Szacowana liczba klastrów w danych.\n",
    "\n",
    "    '''\n",
    "    unique_labels = set(labels)\n",
    "    core_samples_mask = np.zeros_like(labels, dtype=bool)\n",
    "    core_samples_mask[db_data.core_sample_indices] = True\n",
    "\n",
    "    colors = [plt.cm.Spectral(each) for each in np.linspace(0, 1, len(unique_labels))]\n",
    "\n",
    "    for k, col in zip(unique_labels, colors):\n",
    "        if k == -1:\n",
    "            # Black used for noise.\n",
    "            col = [0, 0, 0, 1]\n",
    "            pass\n",
    "\n",
    "        class_member_mask = labels == k\n",
    "        xy = data[class_member_mask & core_samples_mask]\n",
    "        plt.plot(\n",
    "            xy[:, 0],\n",
    "            xy[:, 1],\n",
    "            \"o\",\n",
    "            markerfacecolor=tuple(col),\n",
    "            markeredgecolor=col,\n",
    "            markersize=10,\n",
    "        )\n",
    "\n",
    "        xy = data[class_member_mask & ~core_samples_mask]\n",
    "        plt.plot(\n",
    "            xy[:, 0],\n",
    "            xy[:, 1],\n",
    "            \"o\",\n",
    "            markerfacecolor=tuple(col),\n",
    "            markeredgecolor=\"k\", #or none\n",
    "            markersize=0.5,\n",
    "        )\n",
    "\n",
    "    plt.title(f\"Estimated number of clusters: {n_clusters}\")\n",
    "    plt.show()"
   ]
  },
  {
   "cell_type": "code",
   "execution_count": null,
   "id": "14388a16-bbc7-47a5-8d62-1005d978ff41",
   "metadata": {},
   "outputs": [],
   "source": [
    "unique_labels_data_1 = set(labels_data_1)\n",
    "core_samples_mask_data_1 = np.zeros_like(labels_data_1, dtype=bool)\n",
    "core_samples_mask_data_1[db_data_1.core_sample_indices_] = True\n",
    "\n",
    "colors_data_1 = [plt.cm.Spectral(each) for each in np.linspace(0, 1, len(unique_labels_data_1))]\n",
    "\n",
    "for k, col in zip(unique_labels_data_1, colors_data_1):\n",
    "    if k == -1:\n",
    "        # Black used for noise.\n",
    "        col = [0, 0, 0, 1]\n",
    "        pass\n",
    "\n",
    "    class_member_mask_data_1 = labels_data_1 == k\n",
    "    xy = data_1[class_member_mask_data_1 & core_samples_mask_data_1]\n",
    "    plt.plot(\n",
    "        xy[:, 0],\n",
    "        xy[:, 1],\n",
    "        \"o\",\n",
    "        markerfacecolor=tuple(col),\n",
    "        markeredgecolor=col, #k\n",
    "        markersize=10,\n",
    "    )\n",
    "\n",
    "    xy = data_1[class_member_mask_data_1 & ~core_samples_mask_data_1]\n",
    "    plt.plot(\n",
    "        xy[:, 0],\n",
    "        xy[:, 1],\n",
    "        \"o\",\n",
    "        markerfacecolor=tuple(col),\n",
    "        markeredgecolor=\"k\",\n",
    "        markersize=0.5,\n",
    "    )\n",
    "\n",
    "plt.title(f\"Estimated number of clusters: {n_clusters_data_1}\")\n",
    "plt.show()"
   ]
  },
  {
   "cell_type": "code",
   "execution_count": null,
   "id": "5d3807ac-1161-4fb6-bb07-51acdb3d5556",
   "metadata": {},
   "outputs": [],
   "source": [
    "#eps=3, min=100 oraz eps=4 i min 50"
   ]
  },
  {
   "cell_type": "code",
   "execution_count": null,
   "id": "5c3baff5-0be0-4647-a238-6a4da060597f",
   "metadata": {},
   "outputs": [],
   "source": [
    "Best Score: 11.099532364773683\n",
    "Best eps: 3\n",
    "Best min_samples: 100\n",
    "Estimated number of clusters: 6\n",
    "Estimated number of noise points: 61249\n"
   ]
  }
 ],
 "metadata": {
  "kernelspec": {
   "display_name": "Python 3 (ipykernel)",
   "language": "python",
   "name": "python3"
  },
  "language_info": {
   "codemirror_mode": {
    "name": "ipython",
    "version": 3
   },
   "file_extension": ".py",
   "mimetype": "text/x-python",
   "name": "python",
   "nbconvert_exporter": "python",
   "pygments_lexer": "ipython3",
   "version": "3.11.5"
  }
 },
 "nbformat": 4,
 "nbformat_minor": 5
}
