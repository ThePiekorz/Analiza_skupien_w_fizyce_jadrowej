{
 "cells": [
  {
   "cell_type": "code",
   "execution_count": null,
   "id": "16951406-ee5a-4b17-b5f9-c5de911d0ae3",
   "metadata": {
    "tags": []
   },
   "outputs": [],
   "source": [
    "import rpy2.robjects as robjects\n",
    "\n",
    "# Ścieżka do pliku RDATA\n",
    "file_path = 'wyniki_3,RDATA'\n",
    "\n",
    "# Wywołanie funkcji load z R, aby załadować plik RDATA\n",
    "robjects.r['load'](file_path)\n",
    "\n",
    "# Pobranie zmiennej z R\n",
    "data = robjects.r['nazwa_twojej_zmiennej']\n",
    "\n",
    "# Konwersja zmiennej R do Python\n",
    "data_python = robjects.conversion.rpy2py(data)\n",
    "\n",
    "# Wyświetlanie danych\n",
    "print(data_python)"
   ]
  },
  {
   "cell_type": "code",
   "execution_count": null,
   "id": "93595d1a-977a-495a-9e0b-6448e034723f",
   "metadata": {},
   "outputs": [],
   "source": [
    "import rpy2.robjects as robjects\n",
    "from rpy2.robjects.packages import importr\n",
    "\n",
    "# Ładowanie pakietu ggplot2 z R\n",
    "ggplot2 = importr('ggplot2')\n",
    "\n",
    "# Przykładowe dane\n",
    "data = {'x': [1, 2, 3, 4, 5], 'y': [10, 5, 8, 3, 6]}\n",
    "\n",
    "# Konwertowanie danych do obiektu R\n",
    "r_data = robjects.DataFrame(data)\n",
    "\n",
    "# Tworzenie wykresu za pomocą ggplot2\n",
    "p = ggplot2.ggplot(r_data) + ggplot2.geom_point(ggplot2.aes(x='x', y='y'))\n",
    "\n",
    "# Wyświetlanie wykresu\n",
    "print(p)\n"
   ]
  }
 ],
 "metadata": {
  "kernelspec": {
   "display_name": "Python 3 (ipykernel)",
   "language": "python",
   "name": "python3"
  },
  "language_info": {
   "codemirror_mode": {
    "name": "ipython",
    "version": 3
   },
   "file_extension": ".py",
   "mimetype": "text/x-python",
   "name": "python",
   "nbconvert_exporter": "python",
   "pygments_lexer": "ipython3",
   "version": "3.12.0"
  }
 },
 "nbformat": 4,
 "nbformat_minor": 5
}
